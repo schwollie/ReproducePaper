{
 "cells": [
  {
   "cell_type": "markdown",
   "id": "448c3017",
   "metadata": {},
   "source": [
    "To install all packages use a new clean kernel with a conda environment:"
   ]
  },
  {
   "cell_type": "code",
   "execution_count": 1,
   "id": "58a071df",
   "metadata": {
    "collapsed": true,
    "editable": true,
    "jupyter": {
     "outputs_hidden": true
    },
    "scrolled": true,
    "slideshow": {
     "slide_type": ""
    },
    "tags": []
   },
   "outputs": [
    {
     "name": "stdout",
     "output_type": "stream",
     "text": [
      "Channels:\n",
      " - pytorch\n",
      " - nvidia\n",
      " - defaults\n",
      " - conda-forge\n",
      " - dglteam/label/th22_cu121\n",
      " - pyg\n",
      "Platform: linux-64\n",
      "Collecting package metadata (repodata.json): done\n",
      "Solving environment: done\n",
      "\n",
      "# All requested packages already installed.\n",
      "\n",
      "\n",
      "Note: you may need to restart the kernel to use updated packages.\n",
      "Channels:\n",
      " - pyg\n",
      " - defaults\n",
      " - conda-forge\n",
      " - nvidia\n",
      " - dglteam/label/th22_cu121\n",
      " - pytorch\n",
      "Platform: linux-64\n",
      "Collecting package metadata (repodata.json): done\n",
      "Solving environment: done\n",
      "\n",
      "# All requested packages already installed.\n",
      "\n",
      "\n",
      "Note: you may need to restart the kernel to use updated packages.\n",
      "Channels:\n",
      " - conda-forge\n",
      " - defaults\n",
      " - nvidia\n",
      " - dglteam/label/th22_cu121\n",
      " - pytorch\n",
      " - pyg\n",
      "Platform: linux-64\n",
      "Collecting package metadata (repodata.json): done\n",
      "Solving environment: done\n",
      "\n",
      "## Package Plan ##\n",
      "\n",
      "  environment location: /home/schwollie/anaconda3/envs/paper\n",
      "\n",
      "  added / updated specs:\n",
      "    - lightning\n",
      "\n",
      "\n",
      "The following packages will be SUPERSEDED by a higher-priority channel:\n",
      "\n",
      "  certifi            pkgs/main/linux-64::certifi-2024.2.2-~ --> conda-forge/noarch::certifi-2024.2.2-pyhd8ed1ab_0 \n",
      "\n",
      "\n",
      "\n",
      "Downloading and Extracting Packages:\n",
      "\n",
      "Preparing transaction: done\n",
      "Verifying transaction: done\n",
      "Executing transaction: done\n",
      "\n",
      "Note: you may need to restart the kernel to use updated packages.\n",
      "Channels:\n",
      " - defaults\n",
      " - conda-forge\n",
      " - nvidia\n",
      " - dglteam/label/th22_cu121\n",
      " - pytorch\n",
      " - pyg\n",
      "Platform: linux-64\n",
      "Collecting package metadata (repodata.json): done\n",
      "Solving environment: done\n",
      "\n",
      "## Package Plan ##\n",
      "\n",
      "  environment location: /home/schwollie/anaconda3/envs/paper\n",
      "\n",
      "  added / updated specs:\n",
      "    - ogb\n",
      "    - pandas\n",
      "    - performer-pytorch\n",
      "    - scikit-learn\n",
      "    - wandb\n",
      "    - yacs\n",
      "\n",
      "\n",
      "The following packages will be SUPERSEDED by a higher-priority channel:\n",
      "\n",
      "  certifi            conda-forge/noarch::certifi-2024.2.2-~ --> pkgs/main/linux-64::certifi-2024.2.2-py312h06a4308_0 \n",
      "\n",
      "\n",
      "\n",
      "Downloading and Extracting Packages:\n",
      "\n",
      "Preparing transaction: done\n",
      "Verifying transaction: done\n",
      "Executing transaction: done\n",
      "\n",
      "Note: you may need to restart the kernel to use updated packages.\n",
      "Channels:\n",
      " - conda-forge\n",
      " - defaults\n",
      " - nvidia\n",
      " - dglteam/label/th22_cu121\n",
      " - pytorch\n",
      " - pyg\n",
      "Platform: linux-64\n",
      "Collecting package metadata (repodata.json): done\n",
      "Solving environment: done\n",
      "\n",
      "## Package Plan ##\n",
      "\n",
      "  environment location: /home/schwollie/anaconda3/envs/paper\n",
      "\n",
      "  added / updated specs:\n",
      "    - fsspec\n",
      "    - openbabel\n",
      "    - rdkit\n",
      "\n",
      "\n",
      "The following packages will be SUPERSEDED by a higher-priority channel:\n",
      "\n",
      "  certifi            pkgs/main/linux-64::certifi-2024.2.2-~ --> conda-forge/noarch::certifi-2024.2.2-pyhd8ed1ab_0 \n",
      "\n",
      "\n",
      "\n",
      "Downloading and Extracting Packages:\n",
      "\n",
      "Preparing transaction: done\n",
      "Verifying transaction: done\n",
      "Executing transaction: done\n",
      "\n",
      "Note: you may need to restart the kernel to use updated packages.\n"
     ]
    }
   ],
   "source": [
    "%conda install pytorch torchvision torchaudio pytorch-cuda=12.1 -c pytorch -c nvidia\n",
    "%conda install pyg -c pyg \n",
    "%conda install lightning -c conda-forge\n",
    "%conda install yacs ogb pandas scikit-learn performer-pytorch wandb\n",
    "%conda install openbabel fsspec rdkit -c conda-forge"
   ]
  },
  {
   "cell_type": "code",
   "execution_count": 2,
   "id": "809d6d9f",
   "metadata": {
    "scrolled": true
   },
   "outputs": [
    {
     "name": "stdout",
     "output_type": "stream",
     "text": [
      "2.2.2\n",
      "12.1\n"
     ]
    }
   ],
   "source": [
    "import torch\n",
    "print(torch.__version__)\n",
    "print(torch.version.cuda)"
   ]
  },
  {
   "cell_type": "markdown",
   "id": "0237c31f-03f0-4984-b868-94cd6c4ec0a7",
   "metadata": {},
   "source": [
    "Install additional packages and replace with cuda and torch version:"
   ]
  },
  {
   "cell_type": "code",
   "execution_count": 3,
   "id": "b0b704f0-6f2b-4aa5-8d89-bbd4a6a58a4b",
   "metadata": {
    "collapsed": true,
    "jupyter": {
     "outputs_hidden": true
    },
    "scrolled": true
   },
   "outputs": [
    {
     "name": "stdout",
     "output_type": "stream",
     "text": [
      "Looking in links: https://data.pyg.org/whl/torch-2.2.2+cu121.html\n",
      "Requirement already satisfied: pyg_lib in /home/schwollie/anaconda3/envs/paper/lib/python3.12/site-packages (0.4.0+pt22cu121)\n",
      "Requirement already satisfied: torch_scatter in /home/schwollie/anaconda3/envs/paper/lib/python3.12/site-packages (2.1.2+pt22cu121)\n",
      "Requirement already satisfied: torch_sparse in /home/schwollie/anaconda3/envs/paper/lib/python3.12/site-packages (0.6.18+pt22cu121)\n",
      "Requirement already satisfied: torch_cluster in /home/schwollie/anaconda3/envs/paper/lib/python3.12/site-packages (1.6.3+pt22cu121)\n",
      "Requirement already satisfied: torch_spline_conv in /home/schwollie/anaconda3/envs/paper/lib/python3.12/site-packages (1.2.2+pt22cu121)\n",
      "Requirement already satisfied: scipy in /home/schwollie/anaconda3/envs/paper/lib/python3.12/site-packages (from torch_sparse) (1.13.0)\n",
      "Requirement already satisfied: numpy<2.3,>=1.22.4 in /home/schwollie/anaconda3/envs/paper/lib/python3.12/site-packages (from scipy->torch_sparse) (1.26.4)\n",
      "Note: you may need to restart the kernel to use updated packages.\n",
      "Channels:\n",
      " - dglteam/label/th22_cu121\n",
      " - defaults\n",
      " - conda-forge\n",
      " - nvidia\n",
      " - pytorch\n",
      " - pyg\n",
      "Platform: linux-64\n",
      "Collecting package metadata (repodata.json): done\n",
      "Solving environment: done\n",
      "\n",
      "## Package Plan ##\n",
      "\n",
      "  environment location: /home/schwollie/anaconda3/envs/paper\n",
      "\n",
      "  added / updated specs:\n",
      "    - dgl\n",
      "\n",
      "\n",
      "The following packages will be SUPERSEDED by a higher-priority channel:\n",
      "\n",
      "  certifi            conda-forge/noarch::certifi-2024.2.2-~ --> pkgs/main/linux-64::certifi-2024.2.2-py312h06a4308_0 \n",
      "\n",
      "\n",
      "\n",
      "Downloading and Extracting Packages:\n",
      "\n",
      "Preparing transaction: done\n",
      "Verifying transaction: done\n",
      "Executing transaction: done\n",
      "\n",
      "Note: you may need to restart the kernel to use updated packages.\n"
     ]
    }
   ],
   "source": [
    "%pip install pyg_lib torch_scatter torch_sparse torch_cluster torch_spline_conv -f https://data.pyg.org/whl/torch-2.2.2+cu121.html\n",
    "%conda install -c dglteam/label/th22_cu121 dgl"
   ]
  },
  {
   "cell_type": "markdown",
   "id": "dc5ce606-230f-455a-b30f-740b81a6f267",
   "metadata": {},
   "source": [
    "Setup run configurations:"
   ]
  },
  {
   "cell_type": "code",
   "execution_count": 1,
   "id": "c1e0700b-b67c-4f8e-ba14-10f0517e718c",
   "metadata": {},
   "outputs": [
    {
     "name": "stdout",
     "output_type": "stream",
     "text": [
      "/home/schwollie/Documents/Code/Uni/paper/experiment1\n"
     ]
    },
    {
     "name": "stderr",
     "output_type": "stream",
     "text": [
      "/home/schwollie/anaconda3/envs/paper/lib/python3.12/site-packages/IPython/core/magics/osm.py:417: UserWarning: using dhist requires you to install the `pickleshare` library.\n",
      "  self.shell.db['dhist'] = compress_dhist(dhist)[-100:]\n"
     ]
    }
   ],
   "source": [
    "%cd experiment1"
   ]
  },
  {
   "cell_type": "markdown",
   "id": "e1d111c3-d607-4c8b-a34e-cbe320267d73",
   "metadata": {},
   "source": [
    "Run all models needed for the chart:"
   ]
  },
  {
   "cell_type": "markdown",
   "id": "91882884-4dbd-4ed3-b7c6-b600bce334d6",
   "metadata": {},
   "source": [
    "GCN:"
   ]
  },
  {
   "cell_type": "code",
   "execution_count": 5,
   "id": "dcb5bd66-4cc6-48ec-bca7-b348d12be4e7",
   "metadata": {
    "scrolled": true
   },
   "outputs": [
    {
     "name": "stderr",
     "output_type": "stream",
     "text": [
      "UsageError: Cell magic `%%run` not found (But line magic `%run` exists, did you mean that instead?).\n"
     ]
    }
   ],
   "source": [
    "%run main.py --cfg configs/GCN/peptides-func-GCN.yaml wandb.use False"
   ]
  },
  {
   "cell_type": "code",
   "execution_count": null,
   "id": "13221574-b6ea-4c11-b747-efeef8dd7043",
   "metadata": {},
   "outputs": [],
   "source": [
    "%run main.py --cfg configs/GCN/peptides-struct-GCN.yaml wandb.use False"
   ]
  },
  {
   "cell_type": "code",
   "execution_count": null,
   "id": "4dec27b6-2eee-4d3f-9ecf-d303a927bc99",
   "metadata": {},
   "outputs": [],
   "source": [
    "%run main.py --cfg configs/GCN/VN-peptides-func-GCN.yaml wandb.use False"
   ]
  },
  {
   "cell_type": "code",
   "execution_count": null,
   "id": "9f90fcaa-21b0-40cb-b5a7-a75014ca29d8",
   "metadata": {},
   "outputs": [],
   "source": [
    "%run main.py --cfg configs/GCN/VN-peptides-struct-GCN.yaml wandb.use False"
   ]
  },
  {
   "cell_type": "markdown",
   "id": "3b00ccc9-a9ef-4d83-8a77-67cebe53933e",
   "metadata": {},
   "source": [
    "Gine:"
   ]
  },
  {
   "cell_type": "code",
   "execution_count": null,
   "id": "4ca3105d-da36-43a0-b581-472cbc91130d",
   "metadata": {},
   "outputs": [],
   "source": [
    "%run main.py --cfg configs/GINE/peptides-func-GINE.yaml wandb.use False"
   ]
  },
  {
   "cell_type": "code",
   "execution_count": null,
   "id": "5a5a9675-88ac-41e1-8482-a6904e99ebc1",
   "metadata": {},
   "outputs": [],
   "source": [
    "%run main.py --cfg configs/GINE/peptides-struct-GINE.yaml wandb.use False"
   ]
  },
  {
   "cell_type": "code",
   "execution_count": null,
   "id": "da4af932-bdc0-4a21-bfd7-b326f47323bd",
   "metadata": {},
   "outputs": [],
   "source": [
    "%run main.py --cfg configs/GINE/VN-peptides-func-GINE.yaml wandb.use False"
   ]
  },
  {
   "cell_type": "code",
   "execution_count": null,
   "id": "d1bc7c70-12a6-4a4a-bd5a-2ba4564dc45a",
   "metadata": {},
   "outputs": [],
   "source": [
    "%run main.py --cfg configs/GINE/VN-peptides-struct-GINE.yaml wandb.use False"
   ]
  },
  {
   "cell_type": "markdown",
   "id": "5299725d-a1cb-4e4e-bb2e-4fe90693b401",
   "metadata": {},
   "source": [
    "GatedGCN:"
   ]
  },
  {
   "cell_type": "code",
   "execution_count": 5,
   "id": "a05c3b4a-e6d1-4694-bb7a-b0b264082c41",
   "metadata": {
    "collapsed": true,
    "jupyter": {
     "outputs_hidden": true
    },
    "scrolled": true
   },
   "outputs": [
    {
     "name": "stdout",
     "output_type": "stream",
     "text": [
      "Namespace(cfg_file='configs/GCN/peptides-struct-GCN.yaml', repeat=1, mark_done=False, opts=['wandb.use', 'False'])\n"
     ]
    },
    {
     "ename": "ValueError",
     "evalue": "Type mismatch (<class 'str'> vs. <class 'float'>) with values (1e-5 vs. 1e-05) for config key: optimizer_config.min_lr",
     "output_type": "error",
     "traceback": [
      "\u001b[0;31m---------------------------------------------------------------------------\u001b[0m",
      "\u001b[0;31mValueError\u001b[0m                                Traceback (most recent call last)",
      "File \u001b[0;32m~/Documents/Code/Uni/paper/experiment1/main.py:134\u001b[0m\n\u001b[1;32m    132\u001b[0m cfg\u001b[38;5;241m.\u001b[39mdevice \u001b[38;5;241m=\u001b[39m \u001b[38;5;124m\"\u001b[39m\u001b[38;5;124mcuda\u001b[39m\u001b[38;5;124m\"\u001b[39m \u001b[38;5;28;01mif\u001b[39;00m torch\u001b[38;5;241m.\u001b[39mcuda\u001b[38;5;241m.\u001b[39mis_available() \u001b[38;5;28;01melse\u001b[39;00m \u001b[38;5;124m\"\u001b[39m\u001b[38;5;124mcpu\u001b[39m\u001b[38;5;124m\"\u001b[39m\n\u001b[1;32m    133\u001b[0m \u001b[38;5;66;03m# import pdb; pdb.set_trace()\u001b[39;00m\n\u001b[0;32m--> 134\u001b[0m load_cfg(cfg, args)\n\u001b[1;32m    135\u001b[0m custom_set_out_dir(cfg, args\u001b[38;5;241m.\u001b[39mcfg_file, cfg\u001b[38;5;241m.\u001b[39mname_tag)\n\u001b[1;32m    136\u001b[0m dump_cfg(cfg)\n",
      "File \u001b[0;32m~/anaconda3/envs/paper/lib/python3.12/site-packages/torch_geometric/graphgym/config.py:499\u001b[0m, in \u001b[0;36mload_cfg\u001b[0;34m(cfg, args)\u001b[0m\n\u001b[1;32m    492\u001b[0m \u001b[38;5;28;01mdef\u001b[39;00m \u001b[38;5;21mload_cfg\u001b[39m(cfg, args):\n\u001b[1;32m    493\u001b[0m \u001b[38;5;250m    \u001b[39m\u001b[38;5;124mr\u001b[39m\u001b[38;5;124;03m\"\"\"Load configurations from file system and command line.\u001b[39;00m\n\u001b[1;32m    494\u001b[0m \n\u001b[1;32m    495\u001b[0m \u001b[38;5;124;03m    Args:\u001b[39;00m\n\u001b[1;32m    496\u001b[0m \u001b[38;5;124;03m        cfg (CfgNode): Configuration node\u001b[39;00m\n\u001b[1;32m    497\u001b[0m \u001b[38;5;124;03m        args (ArgumentParser): Command argument parser\u001b[39;00m\n\u001b[1;32m    498\u001b[0m \u001b[38;5;124;03m    \"\"\"\u001b[39;00m\n\u001b[0;32m--> 499\u001b[0m     cfg\u001b[38;5;241m.\u001b[39mmerge_from_file(args\u001b[38;5;241m.\u001b[39mcfg_file)\n\u001b[1;32m    500\u001b[0m     cfg\u001b[38;5;241m.\u001b[39mmerge_from_list(args\u001b[38;5;241m.\u001b[39mopts)\n\u001b[1;32m    501\u001b[0m     assert_cfg(cfg)\n",
      "File \u001b[0;32m~/anaconda3/envs/paper/lib/python3.12/site-packages/yacs/config.py:213\u001b[0m, in \u001b[0;36mCfgNode.merge_from_file\u001b[0;34m(self, cfg_filename)\u001b[0m\n\u001b[1;32m    211\u001b[0m \u001b[38;5;28;01mwith\u001b[39;00m \u001b[38;5;28mopen\u001b[39m(cfg_filename, \u001b[38;5;124m\"\u001b[39m\u001b[38;5;124mr\u001b[39m\u001b[38;5;124m\"\u001b[39m) \u001b[38;5;28;01mas\u001b[39;00m f:\n\u001b[1;32m    212\u001b[0m     cfg \u001b[38;5;241m=\u001b[39m \u001b[38;5;28mself\u001b[39m\u001b[38;5;241m.\u001b[39mload_cfg(f)\n\u001b[0;32m--> 213\u001b[0m \u001b[38;5;28mself\u001b[39m\u001b[38;5;241m.\u001b[39mmerge_from_other_cfg(cfg)\n",
      "File \u001b[0;32m~/anaconda3/envs/paper/lib/python3.12/site-packages/yacs/config.py:217\u001b[0m, in \u001b[0;36mCfgNode.merge_from_other_cfg\u001b[0;34m(self, cfg_other)\u001b[0m\n\u001b[1;32m    215\u001b[0m \u001b[38;5;28;01mdef\u001b[39;00m \u001b[38;5;21mmerge_from_other_cfg\u001b[39m(\u001b[38;5;28mself\u001b[39m, cfg_other):\n\u001b[1;32m    216\u001b[0m \u001b[38;5;250m    \u001b[39m\u001b[38;5;124;03m\"\"\"Merge `cfg_other` into this CfgNode.\"\"\"\u001b[39;00m\n\u001b[0;32m--> 217\u001b[0m     _merge_a_into_b(cfg_other, \u001b[38;5;28mself\u001b[39m, \u001b[38;5;28mself\u001b[39m, [])\n",
      "File \u001b[0;32m~/anaconda3/envs/paper/lib/python3.12/site-packages/yacs/config.py:460\u001b[0m, in \u001b[0;36m_merge_a_into_b\u001b[0;34m(a, b, root, key_list)\u001b[0m\n\u001b[1;32m    458\u001b[0m \u001b[38;5;28;01mif\u001b[39;00m \u001b[38;5;28misinstance\u001b[39m(v, CfgNode):\n\u001b[1;32m    459\u001b[0m     \u001b[38;5;28;01mtry\u001b[39;00m:\n\u001b[0;32m--> 460\u001b[0m         _merge_a_into_b(v, b[k], root, key_list \u001b[38;5;241m+\u001b[39m [k])\n\u001b[1;32m    461\u001b[0m     \u001b[38;5;28;01mexcept\u001b[39;00m \u001b[38;5;167;01mBaseException\u001b[39;00m:\n\u001b[1;32m    462\u001b[0m         \u001b[38;5;28;01mraise\u001b[39;00m\n",
      "File \u001b[0;32m~/anaconda3/envs/paper/lib/python3.12/site-packages/yacs/config.py:456\u001b[0m, in \u001b[0;36m_merge_a_into_b\u001b[0;34m(a, b, root, key_list)\u001b[0m\n\u001b[1;32m    453\u001b[0m v \u001b[38;5;241m=\u001b[39m b\u001b[38;5;241m.\u001b[39m_decode_cfg_value(v)\n\u001b[1;32m    455\u001b[0m \u001b[38;5;28;01mif\u001b[39;00m k \u001b[38;5;129;01min\u001b[39;00m b:\n\u001b[0;32m--> 456\u001b[0m     v \u001b[38;5;241m=\u001b[39m _check_and_coerce_cfg_value_type(v, b[k], k, full_key)\n\u001b[1;32m    457\u001b[0m     \u001b[38;5;66;03m# Recursively merge dicts\u001b[39;00m\n\u001b[1;32m    458\u001b[0m     \u001b[38;5;28;01mif\u001b[39;00m \u001b[38;5;28misinstance\u001b[39m(v, CfgNode):\n",
      "File \u001b[0;32m~/anaconda3/envs/paper/lib/python3.12/site-packages/yacs/config.py:510\u001b[0m, in \u001b[0;36m_check_and_coerce_cfg_value_type\u001b[0;34m(replacement, original, key, full_key)\u001b[0m\n\u001b[1;32m    507\u001b[0m     \u001b[38;5;28;01mif\u001b[39;00m converted:\n\u001b[1;32m    508\u001b[0m         \u001b[38;5;28;01mreturn\u001b[39;00m converted_value\n\u001b[0;32m--> 510\u001b[0m \u001b[38;5;28;01mraise\u001b[39;00m \u001b[38;5;167;01mValueError\u001b[39;00m(\n\u001b[1;32m    511\u001b[0m     \u001b[38;5;124m\"\u001b[39m\u001b[38;5;124mType mismatch (\u001b[39m\u001b[38;5;132;01m{}\u001b[39;00m\u001b[38;5;124m vs. \u001b[39m\u001b[38;5;132;01m{}\u001b[39;00m\u001b[38;5;124m) with values (\u001b[39m\u001b[38;5;132;01m{}\u001b[39;00m\u001b[38;5;124m vs. \u001b[39m\u001b[38;5;132;01m{}\u001b[39;00m\u001b[38;5;124m) for config \u001b[39m\u001b[38;5;124m\"\u001b[39m\n\u001b[1;32m    512\u001b[0m     \u001b[38;5;124m\"\u001b[39m\u001b[38;5;124mkey: \u001b[39m\u001b[38;5;132;01m{}\u001b[39;00m\u001b[38;5;124m\"\u001b[39m\u001b[38;5;241m.\u001b[39mformat(\n\u001b[1;32m    513\u001b[0m         original_type, replacement_type, original, replacement, full_key\n\u001b[1;32m    514\u001b[0m     )\n\u001b[1;32m    515\u001b[0m )\n",
      "\u001b[0;31mValueError\u001b[0m: Type mismatch (<class 'str'> vs. <class 'float'>) with values (1e-5 vs. 1e-05) for config key: optimizer_config.min_lr"
     ]
    },
    {
     "name": "stdout",
     "output_type": "stream",
     "text": [
      "Namespace(cfg_file='configs/GCN/peptides-struct-GCN.yaml', repeat=1, mark_done=False, opts=['wandb.use', 'False'])\n"
     ]
    },
    {
     "ename": "ValueError",
     "evalue": "Type mismatch (<class 'str'> vs. <class 'float'>) with values (1e-5 vs. 1e-05) for config key: optimizer_config.min_lr",
     "output_type": "error",
     "traceback": [
      "\u001b[0;31m---------------------------------------------------------------------------\u001b[0m",
      "\u001b[0;31mValueError\u001b[0m                                Traceback (most recent call last)",
      "File \u001b[0;32m~/Documents/Code/Uni/paper/experiment1/main.py:134\u001b[0m\n\u001b[1;32m    132\u001b[0m cfg\u001b[38;5;241m.\u001b[39mdevice \u001b[38;5;241m=\u001b[39m \u001b[38;5;124m\"\u001b[39m\u001b[38;5;124mcuda\u001b[39m\u001b[38;5;124m\"\u001b[39m \u001b[38;5;28;01mif\u001b[39;00m torch\u001b[38;5;241m.\u001b[39mcuda\u001b[38;5;241m.\u001b[39mis_available() \u001b[38;5;28;01melse\u001b[39;00m \u001b[38;5;124m\"\u001b[39m\u001b[38;5;124mcpu\u001b[39m\u001b[38;5;124m\"\u001b[39m\n\u001b[1;32m    133\u001b[0m \u001b[38;5;66;03m# import pdb; pdb.set_trace()\u001b[39;00m\n\u001b[0;32m--> 134\u001b[0m load_cfg(cfg, args)\n\u001b[1;32m    135\u001b[0m custom_set_out_dir(cfg, args\u001b[38;5;241m.\u001b[39mcfg_file, cfg\u001b[38;5;241m.\u001b[39mname_tag)\n\u001b[1;32m    136\u001b[0m dump_cfg(cfg)\n",
      "File \u001b[0;32m~/anaconda3/envs/paper/lib/python3.12/site-packages/torch_geometric/graphgym/config.py:499\u001b[0m, in \u001b[0;36mload_cfg\u001b[0;34m(cfg, args)\u001b[0m\n\u001b[1;32m    492\u001b[0m \u001b[38;5;28;01mdef\u001b[39;00m \u001b[38;5;21mload_cfg\u001b[39m(cfg, args):\n\u001b[1;32m    493\u001b[0m \u001b[38;5;250m    \u001b[39m\u001b[38;5;124mr\u001b[39m\u001b[38;5;124;03m\"\"\"Load configurations from file system and command line.\u001b[39;00m\n\u001b[1;32m    494\u001b[0m \n\u001b[1;32m    495\u001b[0m \u001b[38;5;124;03m    Args:\u001b[39;00m\n\u001b[1;32m    496\u001b[0m \u001b[38;5;124;03m        cfg (CfgNode): Configuration node\u001b[39;00m\n\u001b[1;32m    497\u001b[0m \u001b[38;5;124;03m        args (ArgumentParser): Command argument parser\u001b[39;00m\n\u001b[1;32m    498\u001b[0m \u001b[38;5;124;03m    \"\"\"\u001b[39;00m\n\u001b[0;32m--> 499\u001b[0m     cfg\u001b[38;5;241m.\u001b[39mmerge_from_file(args\u001b[38;5;241m.\u001b[39mcfg_file)\n\u001b[1;32m    500\u001b[0m     cfg\u001b[38;5;241m.\u001b[39mmerge_from_list(args\u001b[38;5;241m.\u001b[39mopts)\n\u001b[1;32m    501\u001b[0m     assert_cfg(cfg)\n",
      "File \u001b[0;32m~/anaconda3/envs/paper/lib/python3.12/site-packages/yacs/config.py:213\u001b[0m, in \u001b[0;36mCfgNode.merge_from_file\u001b[0;34m(self, cfg_filename)\u001b[0m\n\u001b[1;32m    211\u001b[0m \u001b[38;5;28;01mwith\u001b[39;00m \u001b[38;5;28mopen\u001b[39m(cfg_filename, \u001b[38;5;124m\"\u001b[39m\u001b[38;5;124mr\u001b[39m\u001b[38;5;124m\"\u001b[39m) \u001b[38;5;28;01mas\u001b[39;00m f:\n\u001b[1;32m    212\u001b[0m     cfg \u001b[38;5;241m=\u001b[39m \u001b[38;5;28mself\u001b[39m\u001b[38;5;241m.\u001b[39mload_cfg(f)\n\u001b[0;32m--> 213\u001b[0m \u001b[38;5;28mself\u001b[39m\u001b[38;5;241m.\u001b[39mmerge_from_other_cfg(cfg)\n",
      "File \u001b[0;32m~/anaconda3/envs/paper/lib/python3.12/site-packages/yacs/config.py:217\u001b[0m, in \u001b[0;36mCfgNode.merge_from_other_cfg\u001b[0;34m(self, cfg_other)\u001b[0m\n\u001b[1;32m    215\u001b[0m \u001b[38;5;28;01mdef\u001b[39;00m \u001b[38;5;21mmerge_from_other_cfg\u001b[39m(\u001b[38;5;28mself\u001b[39m, cfg_other):\n\u001b[1;32m    216\u001b[0m \u001b[38;5;250m    \u001b[39m\u001b[38;5;124;03m\"\"\"Merge `cfg_other` into this CfgNode.\"\"\"\u001b[39;00m\n\u001b[0;32m--> 217\u001b[0m     _merge_a_into_b(cfg_other, \u001b[38;5;28mself\u001b[39m, \u001b[38;5;28mself\u001b[39m, [])\n",
      "File \u001b[0;32m~/anaconda3/envs/paper/lib/python3.12/site-packages/yacs/config.py:460\u001b[0m, in \u001b[0;36m_merge_a_into_b\u001b[0;34m(a, b, root, key_list)\u001b[0m\n\u001b[1;32m    458\u001b[0m \u001b[38;5;28;01mif\u001b[39;00m \u001b[38;5;28misinstance\u001b[39m(v, CfgNode):\n\u001b[1;32m    459\u001b[0m     \u001b[38;5;28;01mtry\u001b[39;00m:\n\u001b[0;32m--> 460\u001b[0m         _merge_a_into_b(v, b[k], root, key_list \u001b[38;5;241m+\u001b[39m [k])\n\u001b[1;32m    461\u001b[0m     \u001b[38;5;28;01mexcept\u001b[39;00m \u001b[38;5;167;01mBaseException\u001b[39;00m:\n\u001b[1;32m    462\u001b[0m         \u001b[38;5;28;01mraise\u001b[39;00m\n",
      "File \u001b[0;32m~/anaconda3/envs/paper/lib/python3.12/site-packages/yacs/config.py:456\u001b[0m, in \u001b[0;36m_merge_a_into_b\u001b[0;34m(a, b, root, key_list)\u001b[0m\n\u001b[1;32m    453\u001b[0m v \u001b[38;5;241m=\u001b[39m b\u001b[38;5;241m.\u001b[39m_decode_cfg_value(v)\n\u001b[1;32m    455\u001b[0m \u001b[38;5;28;01mif\u001b[39;00m k \u001b[38;5;129;01min\u001b[39;00m b:\n\u001b[0;32m--> 456\u001b[0m     v \u001b[38;5;241m=\u001b[39m _check_and_coerce_cfg_value_type(v, b[k], k, full_key)\n\u001b[1;32m    457\u001b[0m     \u001b[38;5;66;03m# Recursively merge dicts\u001b[39;00m\n\u001b[1;32m    458\u001b[0m     \u001b[38;5;28;01mif\u001b[39;00m \u001b[38;5;28misinstance\u001b[39m(v, CfgNode):\n",
      "File \u001b[0;32m~/anaconda3/envs/paper/lib/python3.12/site-packages/yacs/config.py:510\u001b[0m, in \u001b[0;36m_check_and_coerce_cfg_value_type\u001b[0;34m(replacement, original, key, full_key)\u001b[0m\n\u001b[1;32m    507\u001b[0m     \u001b[38;5;28;01mif\u001b[39;00m converted:\n\u001b[1;32m    508\u001b[0m         \u001b[38;5;28;01mreturn\u001b[39;00m converted_value\n\u001b[0;32m--> 510\u001b[0m \u001b[38;5;28;01mraise\u001b[39;00m \u001b[38;5;167;01mValueError\u001b[39;00m(\n\u001b[1;32m    511\u001b[0m     \u001b[38;5;124m\"\u001b[39m\u001b[38;5;124mType mismatch (\u001b[39m\u001b[38;5;132;01m{}\u001b[39;00m\u001b[38;5;124m vs. \u001b[39m\u001b[38;5;132;01m{}\u001b[39;00m\u001b[38;5;124m) with values (\u001b[39m\u001b[38;5;132;01m{}\u001b[39;00m\u001b[38;5;124m vs. \u001b[39m\u001b[38;5;132;01m{}\u001b[39;00m\u001b[38;5;124m) for config \u001b[39m\u001b[38;5;124m\"\u001b[39m\n\u001b[1;32m    512\u001b[0m     \u001b[38;5;124m\"\u001b[39m\u001b[38;5;124mkey: \u001b[39m\u001b[38;5;132;01m{}\u001b[39;00m\u001b[38;5;124m\"\u001b[39m\u001b[38;5;241m.\u001b[39mformat(\n\u001b[1;32m    513\u001b[0m         original_type, replacement_type, original, replacement, full_key\n\u001b[1;32m    514\u001b[0m     )\n\u001b[1;32m    515\u001b[0m )\n",
      "\u001b[0;31mValueError\u001b[0m: Type mismatch (<class 'str'> vs. <class 'float'>) with values (1e-5 vs. 1e-05) for config key: optimizer_config.min_lr"
     ]
    },
    {
     "name": "stdout",
     "output_type": "stream",
     "text": [
      "Namespace(cfg_file='configs/GCN/peptides-struct-GCN.yaml', repeat=1, mark_done=False, opts=['wandb.use', 'False'])\n"
     ]
    },
    {
     "ename": "ValueError",
     "evalue": "Type mismatch (<class 'str'> vs. <class 'float'>) with values (1e-5 vs. 1e-05) for config key: optimizer_config.min_lr",
     "output_type": "error",
     "traceback": [
      "\u001b[0;31m---------------------------------------------------------------------------\u001b[0m",
      "\u001b[0;31mValueError\u001b[0m                                Traceback (most recent call last)",
      "File \u001b[0;32m~/Documents/Code/Uni/paper/experiment1/main.py:134\u001b[0m\n\u001b[1;32m    132\u001b[0m cfg\u001b[38;5;241m.\u001b[39mdevice \u001b[38;5;241m=\u001b[39m \u001b[38;5;124m\"\u001b[39m\u001b[38;5;124mcuda\u001b[39m\u001b[38;5;124m\"\u001b[39m \u001b[38;5;28;01mif\u001b[39;00m torch\u001b[38;5;241m.\u001b[39mcuda\u001b[38;5;241m.\u001b[39mis_available() \u001b[38;5;28;01melse\u001b[39;00m \u001b[38;5;124m\"\u001b[39m\u001b[38;5;124mcpu\u001b[39m\u001b[38;5;124m\"\u001b[39m\n\u001b[1;32m    133\u001b[0m \u001b[38;5;66;03m# import pdb; pdb.set_trace()\u001b[39;00m\n\u001b[0;32m--> 134\u001b[0m load_cfg(cfg, args)\n\u001b[1;32m    135\u001b[0m custom_set_out_dir(cfg, args\u001b[38;5;241m.\u001b[39mcfg_file, cfg\u001b[38;5;241m.\u001b[39mname_tag)\n\u001b[1;32m    136\u001b[0m dump_cfg(cfg)\n",
      "File \u001b[0;32m~/anaconda3/envs/paper/lib/python3.12/site-packages/torch_geometric/graphgym/config.py:499\u001b[0m, in \u001b[0;36mload_cfg\u001b[0;34m(cfg, args)\u001b[0m\n\u001b[1;32m    492\u001b[0m \u001b[38;5;28;01mdef\u001b[39;00m \u001b[38;5;21mload_cfg\u001b[39m(cfg, args):\n\u001b[1;32m    493\u001b[0m \u001b[38;5;250m    \u001b[39m\u001b[38;5;124mr\u001b[39m\u001b[38;5;124;03m\"\"\"Load configurations from file system and command line.\u001b[39;00m\n\u001b[1;32m    494\u001b[0m \n\u001b[1;32m    495\u001b[0m \u001b[38;5;124;03m    Args:\u001b[39;00m\n\u001b[1;32m    496\u001b[0m \u001b[38;5;124;03m        cfg (CfgNode): Configuration node\u001b[39;00m\n\u001b[1;32m    497\u001b[0m \u001b[38;5;124;03m        args (ArgumentParser): Command argument parser\u001b[39;00m\n\u001b[1;32m    498\u001b[0m \u001b[38;5;124;03m    \"\"\"\u001b[39;00m\n\u001b[0;32m--> 499\u001b[0m     cfg\u001b[38;5;241m.\u001b[39mmerge_from_file(args\u001b[38;5;241m.\u001b[39mcfg_file)\n\u001b[1;32m    500\u001b[0m     cfg\u001b[38;5;241m.\u001b[39mmerge_from_list(args\u001b[38;5;241m.\u001b[39mopts)\n\u001b[1;32m    501\u001b[0m     assert_cfg(cfg)\n",
      "File \u001b[0;32m~/anaconda3/envs/paper/lib/python3.12/site-packages/yacs/config.py:213\u001b[0m, in \u001b[0;36mCfgNode.merge_from_file\u001b[0;34m(self, cfg_filename)\u001b[0m\n\u001b[1;32m    211\u001b[0m \u001b[38;5;28;01mwith\u001b[39;00m \u001b[38;5;28mopen\u001b[39m(cfg_filename, \u001b[38;5;124m\"\u001b[39m\u001b[38;5;124mr\u001b[39m\u001b[38;5;124m\"\u001b[39m) \u001b[38;5;28;01mas\u001b[39;00m f:\n\u001b[1;32m    212\u001b[0m     cfg \u001b[38;5;241m=\u001b[39m \u001b[38;5;28mself\u001b[39m\u001b[38;5;241m.\u001b[39mload_cfg(f)\n\u001b[0;32m--> 213\u001b[0m \u001b[38;5;28mself\u001b[39m\u001b[38;5;241m.\u001b[39mmerge_from_other_cfg(cfg)\n",
      "File \u001b[0;32m~/anaconda3/envs/paper/lib/python3.12/site-packages/yacs/config.py:217\u001b[0m, in \u001b[0;36mCfgNode.merge_from_other_cfg\u001b[0;34m(self, cfg_other)\u001b[0m\n\u001b[1;32m    215\u001b[0m \u001b[38;5;28;01mdef\u001b[39;00m \u001b[38;5;21mmerge_from_other_cfg\u001b[39m(\u001b[38;5;28mself\u001b[39m, cfg_other):\n\u001b[1;32m    216\u001b[0m \u001b[38;5;250m    \u001b[39m\u001b[38;5;124;03m\"\"\"Merge `cfg_other` into this CfgNode.\"\"\"\u001b[39;00m\n\u001b[0;32m--> 217\u001b[0m     _merge_a_into_b(cfg_other, \u001b[38;5;28mself\u001b[39m, \u001b[38;5;28mself\u001b[39m, [])\n",
      "File \u001b[0;32m~/anaconda3/envs/paper/lib/python3.12/site-packages/yacs/config.py:460\u001b[0m, in \u001b[0;36m_merge_a_into_b\u001b[0;34m(a, b, root, key_list)\u001b[0m\n\u001b[1;32m    458\u001b[0m \u001b[38;5;28;01mif\u001b[39;00m \u001b[38;5;28misinstance\u001b[39m(v, CfgNode):\n\u001b[1;32m    459\u001b[0m     \u001b[38;5;28;01mtry\u001b[39;00m:\n\u001b[0;32m--> 460\u001b[0m         _merge_a_into_b(v, b[k], root, key_list \u001b[38;5;241m+\u001b[39m [k])\n\u001b[1;32m    461\u001b[0m     \u001b[38;5;28;01mexcept\u001b[39;00m \u001b[38;5;167;01mBaseException\u001b[39;00m:\n\u001b[1;32m    462\u001b[0m         \u001b[38;5;28;01mraise\u001b[39;00m\n",
      "File \u001b[0;32m~/anaconda3/envs/paper/lib/python3.12/site-packages/yacs/config.py:456\u001b[0m, in \u001b[0;36m_merge_a_into_b\u001b[0;34m(a, b, root, key_list)\u001b[0m\n\u001b[1;32m    453\u001b[0m v \u001b[38;5;241m=\u001b[39m b\u001b[38;5;241m.\u001b[39m_decode_cfg_value(v)\n\u001b[1;32m    455\u001b[0m \u001b[38;5;28;01mif\u001b[39;00m k \u001b[38;5;129;01min\u001b[39;00m b:\n\u001b[0;32m--> 456\u001b[0m     v \u001b[38;5;241m=\u001b[39m _check_and_coerce_cfg_value_type(v, b[k], k, full_key)\n\u001b[1;32m    457\u001b[0m     \u001b[38;5;66;03m# Recursively merge dicts\u001b[39;00m\n\u001b[1;32m    458\u001b[0m     \u001b[38;5;28;01mif\u001b[39;00m \u001b[38;5;28misinstance\u001b[39m(v, CfgNode):\n",
      "File \u001b[0;32m~/anaconda3/envs/paper/lib/python3.12/site-packages/yacs/config.py:510\u001b[0m, in \u001b[0;36m_check_and_coerce_cfg_value_type\u001b[0;34m(replacement, original, key, full_key)\u001b[0m\n\u001b[1;32m    507\u001b[0m     \u001b[38;5;28;01mif\u001b[39;00m converted:\n\u001b[1;32m    508\u001b[0m         \u001b[38;5;28;01mreturn\u001b[39;00m converted_value\n\u001b[0;32m--> 510\u001b[0m \u001b[38;5;28;01mraise\u001b[39;00m \u001b[38;5;167;01mValueError\u001b[39;00m(\n\u001b[1;32m    511\u001b[0m     \u001b[38;5;124m\"\u001b[39m\u001b[38;5;124mType mismatch (\u001b[39m\u001b[38;5;132;01m{}\u001b[39;00m\u001b[38;5;124m vs. \u001b[39m\u001b[38;5;132;01m{}\u001b[39;00m\u001b[38;5;124m) with values (\u001b[39m\u001b[38;5;132;01m{}\u001b[39;00m\u001b[38;5;124m vs. \u001b[39m\u001b[38;5;132;01m{}\u001b[39;00m\u001b[38;5;124m) for config \u001b[39m\u001b[38;5;124m\"\u001b[39m\n\u001b[1;32m    512\u001b[0m     \u001b[38;5;124m\"\u001b[39m\u001b[38;5;124mkey: \u001b[39m\u001b[38;5;132;01m{}\u001b[39;00m\u001b[38;5;124m\"\u001b[39m\u001b[38;5;241m.\u001b[39mformat(\n\u001b[1;32m    513\u001b[0m         original_type, replacement_type, original, replacement, full_key\n\u001b[1;32m    514\u001b[0m     )\n\u001b[1;32m    515\u001b[0m )\n",
      "\u001b[0;31mValueError\u001b[0m: Type mismatch (<class 'str'> vs. <class 'float'>) with values (1e-5 vs. 1e-05) for config key: optimizer_config.min_lr"
     ]
    },
    {
     "name": "stdout",
     "output_type": "stream",
     "text": [
      "Namespace(cfg_file='configs/GCN/peptides-struct-GCN.yaml', repeat=1, mark_done=False, opts=['wandb.use', 'False'])\n"
     ]
    },
    {
     "ename": "ValueError",
     "evalue": "Type mismatch (<class 'str'> vs. <class 'float'>) with values (1e-5 vs. 1e-05) for config key: optimizer_config.min_lr",
     "output_type": "error",
     "traceback": [
      "\u001b[0;31m---------------------------------------------------------------------------\u001b[0m",
      "\u001b[0;31mValueError\u001b[0m                                Traceback (most recent call last)",
      "File \u001b[0;32m~/Documents/Code/Uni/paper/experiment1/main.py:134\u001b[0m\n\u001b[1;32m    132\u001b[0m cfg\u001b[38;5;241m.\u001b[39mdevice \u001b[38;5;241m=\u001b[39m \u001b[38;5;124m\"\u001b[39m\u001b[38;5;124mcuda\u001b[39m\u001b[38;5;124m\"\u001b[39m \u001b[38;5;28;01mif\u001b[39;00m torch\u001b[38;5;241m.\u001b[39mcuda\u001b[38;5;241m.\u001b[39mis_available() \u001b[38;5;28;01melse\u001b[39;00m \u001b[38;5;124m\"\u001b[39m\u001b[38;5;124mcpu\u001b[39m\u001b[38;5;124m\"\u001b[39m\n\u001b[1;32m    133\u001b[0m \u001b[38;5;66;03m# import pdb; pdb.set_trace()\u001b[39;00m\n\u001b[0;32m--> 134\u001b[0m load_cfg(cfg, args)\n\u001b[1;32m    135\u001b[0m custom_set_out_dir(cfg, args\u001b[38;5;241m.\u001b[39mcfg_file, cfg\u001b[38;5;241m.\u001b[39mname_tag)\n\u001b[1;32m    136\u001b[0m dump_cfg(cfg)\n",
      "File \u001b[0;32m~/anaconda3/envs/paper/lib/python3.12/site-packages/torch_geometric/graphgym/config.py:499\u001b[0m, in \u001b[0;36mload_cfg\u001b[0;34m(cfg, args)\u001b[0m\n\u001b[1;32m    492\u001b[0m \u001b[38;5;28;01mdef\u001b[39;00m \u001b[38;5;21mload_cfg\u001b[39m(cfg, args):\n\u001b[1;32m    493\u001b[0m \u001b[38;5;250m    \u001b[39m\u001b[38;5;124mr\u001b[39m\u001b[38;5;124;03m\"\"\"Load configurations from file system and command line.\u001b[39;00m\n\u001b[1;32m    494\u001b[0m \n\u001b[1;32m    495\u001b[0m \u001b[38;5;124;03m    Args:\u001b[39;00m\n\u001b[1;32m    496\u001b[0m \u001b[38;5;124;03m        cfg (CfgNode): Configuration node\u001b[39;00m\n\u001b[1;32m    497\u001b[0m \u001b[38;5;124;03m        args (ArgumentParser): Command argument parser\u001b[39;00m\n\u001b[1;32m    498\u001b[0m \u001b[38;5;124;03m    \"\"\"\u001b[39;00m\n\u001b[0;32m--> 499\u001b[0m     cfg\u001b[38;5;241m.\u001b[39mmerge_from_file(args\u001b[38;5;241m.\u001b[39mcfg_file)\n\u001b[1;32m    500\u001b[0m     cfg\u001b[38;5;241m.\u001b[39mmerge_from_list(args\u001b[38;5;241m.\u001b[39mopts)\n\u001b[1;32m    501\u001b[0m     assert_cfg(cfg)\n",
      "File \u001b[0;32m~/anaconda3/envs/paper/lib/python3.12/site-packages/yacs/config.py:213\u001b[0m, in \u001b[0;36mCfgNode.merge_from_file\u001b[0;34m(self, cfg_filename)\u001b[0m\n\u001b[1;32m    211\u001b[0m \u001b[38;5;28;01mwith\u001b[39;00m \u001b[38;5;28mopen\u001b[39m(cfg_filename, \u001b[38;5;124m\"\u001b[39m\u001b[38;5;124mr\u001b[39m\u001b[38;5;124m\"\u001b[39m) \u001b[38;5;28;01mas\u001b[39;00m f:\n\u001b[1;32m    212\u001b[0m     cfg \u001b[38;5;241m=\u001b[39m \u001b[38;5;28mself\u001b[39m\u001b[38;5;241m.\u001b[39mload_cfg(f)\n\u001b[0;32m--> 213\u001b[0m \u001b[38;5;28mself\u001b[39m\u001b[38;5;241m.\u001b[39mmerge_from_other_cfg(cfg)\n",
      "File \u001b[0;32m~/anaconda3/envs/paper/lib/python3.12/site-packages/yacs/config.py:217\u001b[0m, in \u001b[0;36mCfgNode.merge_from_other_cfg\u001b[0;34m(self, cfg_other)\u001b[0m\n\u001b[1;32m    215\u001b[0m \u001b[38;5;28;01mdef\u001b[39;00m \u001b[38;5;21mmerge_from_other_cfg\u001b[39m(\u001b[38;5;28mself\u001b[39m, cfg_other):\n\u001b[1;32m    216\u001b[0m \u001b[38;5;250m    \u001b[39m\u001b[38;5;124;03m\"\"\"Merge `cfg_other` into this CfgNode.\"\"\"\u001b[39;00m\n\u001b[0;32m--> 217\u001b[0m     _merge_a_into_b(cfg_other, \u001b[38;5;28mself\u001b[39m, \u001b[38;5;28mself\u001b[39m, [])\n",
      "File \u001b[0;32m~/anaconda3/envs/paper/lib/python3.12/site-packages/yacs/config.py:460\u001b[0m, in \u001b[0;36m_merge_a_into_b\u001b[0;34m(a, b, root, key_list)\u001b[0m\n\u001b[1;32m    458\u001b[0m \u001b[38;5;28;01mif\u001b[39;00m \u001b[38;5;28misinstance\u001b[39m(v, CfgNode):\n\u001b[1;32m    459\u001b[0m     \u001b[38;5;28;01mtry\u001b[39;00m:\n\u001b[0;32m--> 460\u001b[0m         _merge_a_into_b(v, b[k], root, key_list \u001b[38;5;241m+\u001b[39m [k])\n\u001b[1;32m    461\u001b[0m     \u001b[38;5;28;01mexcept\u001b[39;00m \u001b[38;5;167;01mBaseException\u001b[39;00m:\n\u001b[1;32m    462\u001b[0m         \u001b[38;5;28;01mraise\u001b[39;00m\n",
      "File \u001b[0;32m~/anaconda3/envs/paper/lib/python3.12/site-packages/yacs/config.py:456\u001b[0m, in \u001b[0;36m_merge_a_into_b\u001b[0;34m(a, b, root, key_list)\u001b[0m\n\u001b[1;32m    453\u001b[0m v \u001b[38;5;241m=\u001b[39m b\u001b[38;5;241m.\u001b[39m_decode_cfg_value(v)\n\u001b[1;32m    455\u001b[0m \u001b[38;5;28;01mif\u001b[39;00m k \u001b[38;5;129;01min\u001b[39;00m b:\n\u001b[0;32m--> 456\u001b[0m     v \u001b[38;5;241m=\u001b[39m _check_and_coerce_cfg_value_type(v, b[k], k, full_key)\n\u001b[1;32m    457\u001b[0m     \u001b[38;5;66;03m# Recursively merge dicts\u001b[39;00m\n\u001b[1;32m    458\u001b[0m     \u001b[38;5;28;01mif\u001b[39;00m \u001b[38;5;28misinstance\u001b[39m(v, CfgNode):\n",
      "File \u001b[0;32m~/anaconda3/envs/paper/lib/python3.12/site-packages/yacs/config.py:510\u001b[0m, in \u001b[0;36m_check_and_coerce_cfg_value_type\u001b[0;34m(replacement, original, key, full_key)\u001b[0m\n\u001b[1;32m    507\u001b[0m     \u001b[38;5;28;01mif\u001b[39;00m converted:\n\u001b[1;32m    508\u001b[0m         \u001b[38;5;28;01mreturn\u001b[39;00m converted_value\n\u001b[0;32m--> 510\u001b[0m \u001b[38;5;28;01mraise\u001b[39;00m \u001b[38;5;167;01mValueError\u001b[39;00m(\n\u001b[1;32m    511\u001b[0m     \u001b[38;5;124m\"\u001b[39m\u001b[38;5;124mType mismatch (\u001b[39m\u001b[38;5;132;01m{}\u001b[39;00m\u001b[38;5;124m vs. \u001b[39m\u001b[38;5;132;01m{}\u001b[39;00m\u001b[38;5;124m) with values (\u001b[39m\u001b[38;5;132;01m{}\u001b[39;00m\u001b[38;5;124m vs. \u001b[39m\u001b[38;5;132;01m{}\u001b[39;00m\u001b[38;5;124m) for config \u001b[39m\u001b[38;5;124m\"\u001b[39m\n\u001b[1;32m    512\u001b[0m     \u001b[38;5;124m\"\u001b[39m\u001b[38;5;124mkey: \u001b[39m\u001b[38;5;132;01m{}\u001b[39;00m\u001b[38;5;124m\"\u001b[39m\u001b[38;5;241m.\u001b[39mformat(\n\u001b[1;32m    513\u001b[0m         original_type, replacement_type, original, replacement, full_key\n\u001b[1;32m    514\u001b[0m     )\n\u001b[1;32m    515\u001b[0m )\n",
      "\u001b[0;31mValueError\u001b[0m: Type mismatch (<class 'str'> vs. <class 'float'>) with values (1e-5 vs. 1e-05) for config key: optimizer_config.min_lr"
     ]
    }
   ],
   "source": [
    "%run main.py --cfg configs/GCN/peptides-struct-GCN.yaml wandb.use False\n",
    "%run main.py --cfg configs/GCN/peptides-struct-GCN.yaml wandb.use False\n",
    "%run main.py --cfg configs/GCN/peptides-struct-GCN.yaml wandb.use False\n",
    "%run main.py --cfg configs/GCN/peptides-struct-GCN.yaml wandb.use False"
   ]
  }
 ],
 "metadata": {
  "kernelspec": {
   "display_name": "paper-kernel",
   "language": "python",
   "name": "paper-kernel"
  },
  "language_info": {
   "codemirror_mode": {
    "name": "ipython",
    "version": 3
   },
   "file_extension": ".py",
   "mimetype": "text/x-python",
   "name": "python",
   "nbconvert_exporter": "python",
   "pygments_lexer": "ipython3",
   "version": "3.12.2"
  }
 },
 "nbformat": 4,
 "nbformat_minor": 5
}
